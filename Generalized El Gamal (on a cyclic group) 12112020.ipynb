{
 "cells": [
  {
   "cell_type": "code",
   "execution_count": 15,
   "metadata": {},
   "outputs": [
    {
     "name": "stdout",
     "output_type": "stream",
     "text": [
      "number of primes:  168\n",
      "[2, 3, 5, 7, 11] ----- [967, 971, 977, 983, 991]\n",
      "chosen q, chosen p:  743 1487\n"
     ]
    }
   ],
   "source": [
    "import math\n",
    "import random\n",
    "\n",
    "def Is_prime(num):\n",
    "    if num == 1: return False\n",
    "    elif num == 2: return True\n",
    "    elif num % 2 == 0: return False\n",
    "    for i in range(3, int(math.sqrt(num))+1, 2):\n",
    "        if num % i == 0: return False\n",
    "    return True\n",
    "\n",
    "prime = []\n",
    "for i in range(1, 1000):\n",
    "    if Is_prime(i) == True:\n",
    "        prime.append(i)\n",
    "\n",
    "count = len(prime)    \n",
    "print('number of primes: ', count)\n",
    "print(prime[0:5], \"-----\", prime[-6:-1])\n",
    "\n",
    "p_flag = False\n",
    "while p_flag == False:\n",
    "    q_candidate_index = random.randint(int(count/2), count-1)\n",
    "    q_candidate = prime[q_candidate_index]\n",
    "    p_candidate = 2*q_candidate + 1\n",
    "    if Is_prime(p_candidate) == True:\n",
    "        p = p_candidate\n",
    "        q = q_candidate\n",
    "        p_flag = True\n",
    "\n",
    "print('chosen q, chosen p: ', q, p)"
   ]
  },
  {
   "cell_type": "code",
   "execution_count": 16,
   "metadata": {},
   "outputs": [
    {
     "name": "stdout",
     "output_type": "stream",
     "text": [
      "max p_primitiveroot =  1485\n",
      "chosen chosen_primitiveroot =  1413\n",
      "alpha =  1015\n",
      "g_cyclic_group order:  743\n",
      "g_cyclic_group:  [1, 1015, 1221, 644, 867, 1188, 1350, 723, 754, 992, 181, 814, 925, 578, 792, 900, 482, 7, 1157, 1112, 47, 121, 881, 528, 600, 817, 996, 1267, 1237, 527, 1072, 1083, 352, 400, 49, 664, 349, 329, 847, 219, 722, 1226, 1258, 1024, 1434, 1224, 715, 69, 146, 977, 1313, 343, 187, 956, 816, 1468, 46, 593, 1147, 1371, 1220, 1116, 1133, 544, 483, 1022, 891, 269, 914, 1309, 744, 1251, 1354, 322, 1177, 594, 675, 1105, 377, 496, 834, 407, 1206, 289, 396, 450, 241, 747, 1322, 556, 767, 804, 1184, 264, 300, 1152, 498, 1377, 1362, 1007, 536, 1285, 176, 200, 768, 332, 918, 908, 1167, 853, 361, 613, 629, 512, 717, 612, 1101, 778, 73, 1232, 1400, 915, 837, 478, 408, 734, 23, 1040, 1317, 1429, 610, 558, 1310, 272, 985, 511, 1189, 878, 457, 1398, 372, 1369, 677, 161, 1332, 297, 1081, 1296, 932, 248, 417, 947, 603, 888, 198, 225, 864, 1117, 661, 278, 1127, 402, 592, 132, 150, 576, 249, 1432, 681, 1247, 268, 1386, 88, 100, 384, 166, 459, 454, 1327, 1170, 924, 1050, 1058, 256, 1102, 306, 1294, 389, 780, 616, 700, 1201, 1162, 239, 204, 367, 755, 520, 1402, 1458, 305, 279, 655, 136, 1236, 999, 1338, 439, 972, 699, 186, 1428, 1082, 824, 666, 892, 1284, 648, 466, 124, 952, 1217, 1045, 444, 99, 856, 432, 1302, 1074, 139, 1307, 201, 296, 66, 75, 288, 868, 716, 1084, 1367, 134, 693, 44, 50, 192, 83, 973, 227, 1407, 585, 462, 525, 529, 128, 551, 153, 647, 938, 390, 308, 350, 1344, 581, 863, 102, 927, 1121, 260, 701, 729, 896, 883, 1071, 68, 618, 1243, 669, 963, 486, 1093, 93, 714, 541, 412, 333, 446, 642, 324, 233, 62, 476, 1352, 1266, 222, 793, 428, 216, 651, 537, 813, 1397, 844, 148, 33, 781, 144, 434, 358, 542, 1427, 67, 1090, 22, 25, 96, 785, 1230, 857, 1447, 1036, 231, 1006, 1008, 64, 1019, 820, 1067, 469, 195, 154, 175, 672, 1034, 1175, 51, 1207, 1304, 130, 1094, 1108, 448, 1185, 1279, 34, 309, 1365, 1078, 1225, 243, 1290, 790, 357, 1014, 206, 910, 223, 321, 162, 860, 31, 238, 676, 633, 111, 1140, 214, 108, 1069, 1012, 1150, 1442, 422, 74, 760, 1134, 72, 217, 179, 271, 1457, 777, 545, 11, 756, 48, 1136, 615, 1172, 1467, 518, 859, 503, 504, 32, 1253, 410, 1277, 978, 841, 77, 831, 336, 517, 1331, 769, 1347, 652, 65, 547, 554, 224, 1336, 1383, 17, 898, 1426, 539, 1356, 865, 645, 395, 922, 507, 103, 455, 855, 904, 81, 430, 759, 119, 338, 1060, 799, 570, 107, 54, 1278, 506, 575, 721, 211, 37, 380, 567, 36, 852, 833, 879, 1472, 1132, 1016, 749, 378, 24, 568, 1051, 586, 1477, 259, 1173, 995, 252, 16, 1370, 205, 1382, 489, 1164, 782, 1159, 168, 1002, 1409, 1128, 1417, 326, 776, 1017, 277, 112, 668, 1435, 752, 449, 713, 1013, 678, 1176, 1066, 941, 461, 997, 795, 971, 1171, 452, 784, 215, 1123, 803, 169, 530, 1143, 285, 797, 27, 639, 253, 1031, 1104, 849, 762, 190, 1027, 18, 426, 1160, 1183, 736, 566, 508, 1118, 189, 12, 284, 1269, 293, 1482, 873, 1330, 1241, 126, 8, 685, 846, 691, 988, 582, 391, 1323, 84, 501, 1448, 564, 1452, 163, 388, 1252, 882, 56, 334, 1461, 376, 968, 1100, 1250, 339, 588, 533, 1214, 974, 1242, 1141, 1229, 1329, 226, 392, 851, 1305, 1145, 828, 265, 1315, 886, 1142, 757, 1063, 870, 1259, 552, 1168, 381, 95, 1257, 9, 213, 580, 1335, 368, 283, 254, 559, 838, 6, 142, 1378, 890, 741, 1180, 665, 1364, 63, 4, 1086, 423, 1089, 494, 291, 939, 1405, 42, 994, 724, 282, 726, 825, 194, 626, 441, 28, 167, 1474, 188, 484, 550, 625, 913, 294, 1010, 607, 487, 621, 1314, 1358, 1408, 113, 196, 1169, 1396, 1316, 414, 876, 1401, 443, 571, 1122, 1275, 435, 1373, 276, 584, 934, 791, 1372, 748, 850, 290, 1411, 184, 885, 127, 1023, 419, 3, 71, 689, 445, 1114, 590, 1076, 682, 775, 2, 543, 955, 1288, 247, 889, 1213, 1446, 21, 497, 362, 141, 363, 1156, 97, 313, 964, 14, 827, 737, 94, 242, 275, 1056, 1200, 147, 505, 1047, 987, 1054, 657, 679, 704, 800, 98, 1328, 698, 658, 207, 438, 1444, 965, 1029, 561, 1381, 961, 1430, 138, 292, 467, 1139, 686, 374, 425, 145, 1449, 92, 1186, 807, 1255, 953, 745, 779, 1088, 966, 557, 295, 538, 341, 1131]\n"
     ]
    }
   ],
   "source": [
    "import sympy as sym\n",
    "\n",
    "p_primitiveroot = []\n",
    "for i in range(1, p):\n",
    "    if sym.is_primitive_root(i, p) == True:\n",
    "        p_primitiveroot.append(i)\n",
    "\n",
    "print('max p_primitiveroot = ', max(p_primitiveroot))\n",
    "        \n",
    "chosen_primitiveroot = random.choice(p_primitiveroot)\n",
    "alpha = chosen_primitiveroot**2 % p\n",
    "print('chosen chosen_primitiveroot = ', chosen_primitiveroot)\n",
    "print('alpha = ', alpha)\n",
    "\n",
    "g_cyclic_group = []\n",
    "for i in range(q):\n",
    "    g_cyclic_group.append(alpha **i %p)\n",
    "\n",
    "print('g_cyclic_group order: ', len(g_cyclic_group))\n",
    "print('g_cyclic_group: ', g_cyclic_group)"
   ]
  },
  {
   "cell_type": "code",
   "execution_count": 17,
   "metadata": {},
   "outputs": [
    {
     "name": "stdout",
     "output_type": "stream",
     "text": [
      "1015 ^ 1  is in g_cyclic_group\n",
      "1015 ^ 2  is in g_cyclic_group\n",
      "1015 ^ 3  is in g_cyclic_group\n",
      "1015 ^ 4  is in g_cyclic_group\n",
      "1015 ^ 5  is in g_cyclic_group\n",
      "1015 ^ 6  is in g_cyclic_group\n",
      "1015 ^ 7  is in g_cyclic_group\n",
      "1015 ^ 8  is in g_cyclic_group\n",
      "1015 ^ 9  is in g_cyclic_group\n"
     ]
    }
   ],
   "source": [
    "for i in range(1, 10):\n",
    "    if alpha**i % p in g_cyclic_group: \n",
    "        print(alpha, '^', i, ' is in g_cyclic_group')\n",
    "    else:\n",
    "        print(alpha, '^', i, ' is NOT in g_cyclic_group')"
   ]
  },
  {
   "cell_type": "code",
   "execution_count": 18,
   "metadata": {},
   "outputs": [
    {
     "name": "stdout",
     "output_type": "stream",
     "text": [
      "private key: x =  533\n",
      "y =  8\n",
      "message m =  518\n"
     ]
    }
   ],
   "source": [
    "x = random.randint(1, q-1)\n",
    "print('private key: x = ', x)\n",
    "\n",
    "y = alpha ** x % p\n",
    "print('y = ', y)\n",
    "\n",
    "m_index = random.randint(1, q-1)\n",
    "m = g_cyclic_group[m_index]\n",
    "print('message m = ', m)"
   ]
  },
  {
   "cell_type": "code",
   "execution_count": 19,
   "metadata": {},
   "outputs": [
    {
     "name": "stdout",
     "output_type": "stream",
     "text": [
      "r =  301\n",
      "encrypted (c1 and c2):  844 51\n"
     ]
    }
   ],
   "source": [
    "r = random.randint(2, q-1)\n",
    "print('r = ', r)\n",
    "\n",
    "c1 = alpha**r % p\n",
    "c2 = m * (y**r) % p\n",
    "print('encrypted (c1 and c2): ', c1, c2)"
   ]
  },
  {
   "cell_type": "code",
   "execution_count": 20,
   "metadata": {},
   "outputs": [
    {
     "name": "stdout",
     "output_type": "stream",
     "text": [
      "inverse_c1 =  37\n"
     ]
    }
   ],
   "source": [
    "inverse_c1 = 0\n",
    "inverse_c1_flag = False \n",
    "for i in range(0, q):\n",
    "    if c1 * (alpha **i) % p == 1:\n",
    "        inverse_c1 = alpha **i %p\n",
    "        print('inverse_c1 = ', inverse_c1)\n",
    "        inverse_c1_flag = True \n",
    "if inverse_c1_flag == False:\n",
    "    print('could not find inverse_c1')"
   ]
  },
  {
   "cell_type": "code",
   "execution_count": 21,
   "metadata": {},
   "outputs": [
    {
     "name": "stdout",
     "output_type": "stream",
     "text": [
      "dectypted message is  518\n",
      "decryption success!\n"
     ]
    }
   ],
   "source": [
    "decrypted = c2 * (inverse_c1 **x) % p\n",
    "print('dectypted message is ', decrypted)\n",
    "\n",
    "if decrypted == m: print('decryption success!')\n",
    "else: print('something is wrong!')"
   ]
  },
  {
   "cell_type": "code",
   "execution_count": null,
   "metadata": {},
   "outputs": [],
   "source": []
  }
 ],
 "metadata": {
  "kernelspec": {
   "display_name": "Python 3",
   "language": "python",
   "name": "python3"
  },
  "language_info": {
   "codemirror_mode": {
    "name": "ipython",
    "version": 3
   },
   "file_extension": ".py",
   "mimetype": "text/x-python",
   "name": "python",
   "nbconvert_exporter": "python",
   "pygments_lexer": "ipython3",
   "version": "3.7.6"
  }
 },
 "nbformat": 4,
 "nbformat_minor": 4
}
