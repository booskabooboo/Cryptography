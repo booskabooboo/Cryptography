{
 "cells": [
  {
   "cell_type": "code",
   "execution_count": 1,
   "metadata": {},
   "outputs": [],
   "source": [
    "#ord returns ASCII code for character. \n",
    "ord_a = ord(\"a\")\n",
    "print(ord_a)"
   ]
  },
  {
   "cell_type": "code",
   "execution_count": 2,
   "metadata": {},
   "outputs": [
    {
     "name": "stdout",
     "output_type": "stream",
     "text": [
      "0b1100001\n"
     ]
    }
   ],
   "source": [
    "#convert integer to binary (number consisting only of 0 and 1)\n",
    "binary = bin(97)\n",
    "print(binary)\n",
    "#starting with 0b means binary number. "
   ]
  },
  {
   "cell_type": "code",
   "execution_count": 3,
   "metadata": {},
   "outputs": [
    {
     "name": "stdout",
     "output_type": "stream",
     "text": [
      "97\n"
     ]
    }
   ],
   "source": [
    "#convert binary to integer\n",
    "integer = int(binary, 2)\n",
    "print(integer)"
   ]
  },
  {
   "cell_type": "code",
   "execution_count": 4,
   "metadata": {},
   "outputs": [
    {
     "name": "stdout",
     "output_type": "stream",
     "text": [
      "a\n"
     ]
    }
   ],
   "source": [
    "#chr returns a character for ASCII code. \n",
    "print(chr(97))"
   ]
  },
  {
   "cell_type": "code",
   "execution_count": 5,
   "metadata": {},
   "outputs": [
    {
     "name": "stdout",
     "output_type": "stream",
     "text": [
      "['0b1110100', '0b1100101', '0b1110011', '0b1110100']\n"
     ]
    }
   ],
   "source": [
    "message = \"test\"\n",
    "len_message = len(message)\n",
    "encrypted = []\n",
    "\n",
    "for i in range(len_message):\n",
    "    letter = message[i]\n",
    "    letter = ord(letter)\n",
    "    letter = bin(letter)\n",
    "    encrypted.append(letter)\n",
    "\n",
    "print(encrypted)"
   ]
  },
  {
   "cell_type": "code",
   "execution_count": 6,
   "metadata": {},
   "outputs": [
    {
     "name": "stdout",
     "output_type": "stream",
     "text": [
      "test\n"
     ]
    }
   ],
   "source": [
    "character = []\n",
    "\n",
    "for j in range(len_message):\n",
    "    letter = encrypted[j]\n",
    "    letter = int(letter, 2)\n",
    "    letter = chr(letter)\n",
    "    character.append(letter)\n",
    "    \n",
    "print(''.join(character))"
   ]
  },
  {
   "cell_type": "code",
   "execution_count": 7,
   "metadata": {},
   "outputs": [
    {
     "name": "stdout",
     "output_type": "stream",
     "text": [
      "116\n",
      "80\n",
      "0b100100\n"
     ]
    }
   ],
   "source": [
    "#xor operation \n",
    "#python bin ^ \n",
    "t_test = ord(\"t\")\n",
    "print(t_test)\n",
    "\n",
    "xor_test = ord(\"P\")\n",
    "print(xor_test)\n",
    "\n",
    "xor_result = bin(t_test ^ xor_test)\n",
    "print(xor_result)"
   ]
  },
  {
   "cell_type": "code",
   "execution_count": 8,
   "metadata": {},
   "outputs": [
    {
     "name": "stdout",
     "output_type": "stream",
     "text": [
      "['0b11001', '0b1110000', '0b110100', '0b111111', '0b111110', '0b1110111', '0b100100', '0b1110000', '0b111110', '0b110101', '0b110101', '0b110100', '0b1110000', '0b110001', '0b1110000', '0b111000', '0b110001', '0b111001', '0b100010', '0b1110000', '0b100011', '0b100100', '0b101001', '0b111100', '0b111001', '0b100011', '0b100100', '0b1111100', '0b1110000', '0b111101', '0b101001', '0b1110000', '0b100000', '0b111001', '0b111100', '0b111100', '0b111111', '0b100111', '0b1110000', '0b110111', '0b111001', '0b100110', '0b110101', '0b100011', '0b1110000', '0b111101', '0b110101', '0b1110000', '0b110001', '0b1110000', '0b111110', '0b110101', '0b100111', '0b1110000', '0b111000', '0b110001', '0b111001', '0b100010', '0b100011', '0b100100', '0b101001', '0b111100', '0b110101', '0b1110000', '0b110101', '0b100110', '0b110101', '0b100010', '0b101001', '0b1110000', '0b111101', '0b111111', '0b100010', '0b111110', '0b111001', '0b111110', '0b110111', '0b1111110']\n",
      "~~~~~~~~~~~~~~~~~~~~~~~~~~~~~~~~~~~~~~~~~~~~~~~~~~~~~~~~~~~~~~~~~~~~~~~~~~~~~~\n"
     ]
    }
   ],
   "source": [
    "#enctyption\n",
    "message = \"I don't need a hair stylist, my pillow gives me a new hairstyle every morning.\"\n",
    "len_message = len(message)\n",
    "xor_encrypted = []\n",
    "\n",
    "xorKey = 'P'\n",
    "\n",
    "for i in range(len_message):\n",
    "    xor_encrypted.append(bin(ord(message[i]) ^ ord(xorKey)))\n",
    "\n",
    "print(xor_encrypted)\n",
    "\n",
    "character = []\n",
    "\n",
    "for j in range(len_message):\n",
    "    character.append(chr((int(xor_encrypted[i], 2))))\n",
    "\n",
    "print(''.join(character))"
   ]
  },
  {
   "cell_type": "code",
   "execution_count": 9,
   "metadata": {},
   "outputs": [
    {
     "name": "stdout",
     "output_type": "stream",
     "text": [
      "['0b1001001', '0b100000', '0b1100100', '0b1101111', '0b1101110', '0b100111', '0b1110100', '0b100000', '0b1101110', '0b1100101', '0b1100101', '0b1100100', '0b100000', '0b1100001', '0b100000', '0b1101000', '0b1100001', '0b1101001', '0b1110010', '0b100000', '0b1110011', '0b1110100', '0b1111001', '0b1101100', '0b1101001', '0b1110011', '0b1110100', '0b101100', '0b100000', '0b1101101', '0b1111001', '0b100000', '0b1110000', '0b1101001', '0b1101100', '0b1101100', '0b1101111', '0b1110111', '0b100000', '0b1100111', '0b1101001', '0b1110110', '0b1100101', '0b1110011', '0b100000', '0b1101101', '0b1100101', '0b100000', '0b1100001', '0b100000', '0b1101110', '0b1100101', '0b1110111', '0b100000', '0b1101000', '0b1100001', '0b1101001', '0b1110010', '0b1110011', '0b1110100', '0b1111001', '0b1101100', '0b1100101', '0b100000', '0b1100101', '0b1110110', '0b1100101', '0b1110010', '0b1111001', '0b100000', '0b1101101', '0b1101111', '0b1110010', '0b1101110', '0b1101001', '0b1101110', '0b1100111', '0b101110']\n",
      "I don't need a hair stylist, my pillow gives me a new hairstyle every morning.\n"
     ]
    }
   ],
   "source": [
    "#decryption\n",
    "\n",
    "xorKey = 'P'\n",
    "xor_decrypted = []\n",
    "\n",
    "for k in range(len_message):\n",
    "    xor_decrypted.append(bin(int(xor_encrypted[k], 2) ^ ord(xorKey)))\n",
    "\n",
    "print(xor_decrypted)\n",
    "\n",
    "character_decrypted = []\n",
    "\n",
    "for l in range(len_message):\n",
    "    character_decrypted.append(chr(int(xor_decrypted[l], 2)))\n",
    "    \n",
    "print(''.join(character_decrypted))"
   ]
  },
  {
   "cell_type": "code",
   "execution_count": null,
   "metadata": {},
   "outputs": [],
   "source": []
  }
 ],
 "metadata": {
  "kernelspec": {
   "display_name": "Python 3",
   "language": "python",
   "name": "python3"
  },
  "language_info": {
   "codemirror_mode": {
    "name": "ipython",
    "version": 3
   },
   "file_extension": ".py",
   "mimetype": "text/x-python",
   "name": "python",
   "nbconvert_exporter": "python",
   "pygments_lexer": "ipython3",
   "version": "3.8.5"
  }
 },
 "nbformat": 4,
 "nbformat_minor": 4
}
