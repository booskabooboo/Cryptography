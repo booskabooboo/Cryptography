{
 "cells": [
  {
   "cell_type": "code",
   "execution_count": 15,
   "id": "c5888200",
   "metadata": {},
   "outputs": [],
   "source": [
    "def binary(num): #return 8 bit binary\n",
    "    binary_num = []\n",
    "\n",
    "    while num > 0:\n",
    "        binary_num.append(num % 2)\n",
    "        num = num // 2\n",
    "\n",
    "    binary_num.reverse()\n",
    "    binary_num = map(str, binary_num)\n",
    "    binary_num = \"\".join(binary_num)\n",
    "    binary_num = binary_num.zfill(8)\n",
    "\n",
    "    return binary_num"
   ]
  },
  {
   "cell_type": "code",
   "execution_count": 16,
   "id": "11cffdb4",
   "metadata": {},
   "outputs": [
    {
     "name": "stderr",
     "output_type": "stream",
     "text": [
      "C:\\Users\\Boo2\\anaconda3\\lib\\site-packages\\IPython\\core\\inputtransformer2.py:484: UserWarning: `make_tokens_by_line` received a list of lines which do not have lineending markers ('\\n', '\\r', '\\r\\n', '\\x0b', '\\x0c'), behavior will be unspecified\n",
      "  warnings.warn(\"`make_tokens_by_line` received a list of lines which do not have lineending markers ('\\\\n', '\\\\r', '\\\\r\\\\n', '\\\\x0b', '\\\\x0c'), behavior will be unspecified\")\n"
     ]
    }
   ],
   "source": [
    "encrypted_message = \"w\u001e",
    "ZQP\u0019J\u001e",
    "RWU[\u001e",
    "SKMVLQQS\u0010\u001e",
    "uQJ[F\""
   ]
  },
  {
   "cell_type": "code",
   "execution_count": 17,
   "id": "7485e702",
   "metadata": {},
   "outputs": [
    {
     "name": "stdout",
     "output_type": "stream",
     "text": [
      "['01110111', '00011110', '01011010', '01010001', '01010000', '00011001', '01001010', '00011110', '01010010', '01010111', '01010101', '01011011', '00011110', '01010011', '01001011', '01001101', '01010110', '01001100', '01010001', '01010001', '01010011', '00010000', '00011110', '01110101', '01010001', '01001010', '01011011', '01000110']\n"
     ]
    }
   ],
   "source": [
    "todecrypt_message = encrypted_message\n",
    "len_todecrypt_message = len(todecrypt_message)\n",
    "todecrypt_message_binary = []\n",
    "\n",
    "for i in range(len_todecrypt_message):\n",
    "    letter = ord(todecrypt_message[i])\n",
    "    letter = binary(letter)\n",
    "    todecrypt_message_binary.append(letter)\n",
    "\n",
    "#message_binary = \"\".join(message_binary)\n",
    "print(todecrypt_message_binary)"
   ]
  },
  {
   "cell_type": "code",
   "execution_count": 18,
   "id": "575793e9",
   "metadata": {},
   "outputs": [
    {
     "name": "stdout",
     "output_type": "stream",
     "text": [
      "key:  62\n",
      "I don't like mushroom. Kotex\n"
     ]
    }
   ],
   "source": [
    "# decryption\n",
    "\n",
    "import enchant \n",
    "d = enchant.Dict(\"en_US\") \n",
    "\n",
    "for m in range(0, 255):\n",
    "    xor_candidate_binary = binary(m)\n",
    "    decrypted_message_binary = []\n",
    "    \n",
    "    for k in todecrypt_message_binary:\n",
    "        decrypted_character = []\n",
    "\n",
    "        for j in range(8):\n",
    "            if k[j] == xor_candidate_binary[j]:\n",
    "                decrypted_character.append('0')\n",
    "            else:\n",
    "                decrypted_character.append('1')\n",
    "\n",
    "        decrypted_character = map(str, decrypted_character)\n",
    "        decrypted_character = \"\".join(decrypted_character)\n",
    "        decrypted_message_binary.append(decrypted_character)\n",
    "        \n",
    "    decrypted_message = []\n",
    "\n",
    "    for l in decrypted_message_binary:\n",
    "        #print(int(l, 2))\n",
    "        char = chr(int(l, 2))\n",
    "        decrypted_message.append(char)\n",
    "    \n",
    "    decrypted_message = \"\".join(decrypted_message)\n",
    "    \n",
    "    decrypted_message_list = list(decrypted_message.split(\" \"))\n",
    "    word_count = len(decrypted_message_list)\n",
    "    in_dict = 0\n",
    "    \n",
    "    for word in decrypted_message_list:\n",
    "        try:\n",
    "            if d.check(word) == True:\n",
    "                #print(word, \" is OK\")\n",
    "                in_dict = in_dict +1\n",
    "                pass\n",
    "            else:\n",
    "                #print(word, \" is NG\")\n",
    "                pass\n",
    "        except: \n",
    "            pass\n",
    "\n",
    "    if in_dict/word_count > 0.5:\n",
    "        print('key: ', m) \n",
    "        print(decrypted_message)\n",
    "    "
   ]
  },
  {
   "cell_type": "code",
   "execution_count": null,
   "id": "aef99980",
   "metadata": {},
   "outputs": [],
   "source": []
  }
 ],
 "metadata": {
  "kernelspec": {
   "display_name": "Python 3",
   "language": "python",
   "name": "python3"
  },
  "language_info": {
   "codemirror_mode": {
    "name": "ipython",
    "version": 3
   },
   "file_extension": ".py",
   "mimetype": "text/x-python",
   "name": "python",
   "nbconvert_exporter": "python",
   "pygments_lexer": "ipython3",
   "version": "3.8.8"
  }
 },
 "nbformat": 4,
 "nbformat_minor": 5
}
