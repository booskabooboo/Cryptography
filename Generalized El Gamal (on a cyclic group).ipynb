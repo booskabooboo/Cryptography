{
 "cells": [
  {
   "cell_type": "code",
   "execution_count": 1,
   "metadata": {},
   "outputs": [
    {
     "name": "stdout",
     "output_type": "stream",
     "text": [
      "number of primes:  168\n",
      "[2, 3, 5, 7, 11] ----- [967, 971, 977, 983, 991]\n",
      "chosen q, chosen p:  29 59\n"
     ]
    }
   ],
   "source": [
    "import math\n",
    "import random\n",
    "\n",
    "def Is_prime(num):\n",
    "    if num == 1: return False\n",
    "    elif num == 2: return True\n",
    "    elif num % 2 == 0: return False\n",
    "    for i in range(3, int(math.sqrt(num))+1, 2):\n",
    "        if num % i == 0: return False\n",
    "    return True\n",
    "\n",
    "prime = []\n",
    "for i in range(1, 1000):\n",
    "    if Is_prime(i) == True:\n",
    "        prime.append(i)\n",
    "\n",
    "count = len(prime)    \n",
    "print('number of primes: ', count)\n",
    "print(prime[0:5], \"-----\", prime[-6:-1])\n",
    "\n",
    "p_flag = False\n",
    "while p_flag == False:\n",
    "    q_candidate_index = random.randint(5, count-1)\n",
    "    q_candidate = prime[q_candidate_index]\n",
    "    p_candidate = 2*q_candidate + 1\n",
    "    if Is_prime(p_candidate) == True:\n",
    "        p = p_candidate\n",
    "        q = q_candidate\n",
    "        p_flag = True\n",
    "\n",
    "print('chosen q, chosen p: ', q, p)"
   ]
  },
  {
   "cell_type": "code",
   "execution_count": 2,
   "metadata": {},
   "outputs": [
    {
     "name": "stdout",
     "output_type": "stream",
     "text": [
      "max p_primitiveroot =  56\n",
      "chosen chosen_primitiveroot =  8\n",
      "alpha =  5\n",
      "g_cyclic_group order:  29\n",
      "g_cyclic_group:  [1, 5, 25, 7, 35, 57, 49, 9, 45, 48, 4, 20, 41, 28, 22, 51, 19, 36, 3, 15, 16, 21, 46, 53, 29, 27, 17, 26, 12]\n"
     ]
    }
   ],
   "source": [
    "import sympy as sym\n",
    "\n",
    "p_primitiveroot = []\n",
    "for i in range(1, p):\n",
    "    if sym.is_primitive_root(i, p) == True:\n",
    "        p_primitiveroot.append(i)\n",
    "\n",
    "print('max p_primitiveroot = ', max(p_primitiveroot))\n",
    "        \n",
    "chosen_primitiveroot = random.choice(p_primitiveroot)\n",
    "alpha = chosen_primitiveroot**2 % p\n",
    "print('chosen chosen_primitiveroot = ', chosen_primitiveroot)\n",
    "print('alpha = ', alpha)\n",
    "\n",
    "g_cyclic_group = []\n",
    "for i in range(q):\n",
    "    g_cyclic_group.append(alpha **i %p)\n",
    "\n",
    "print('g_cyclic_group order: ', len(g_cyclic_group))\n",
    "print('g_cyclic_group: ', g_cyclic_group)"
   ]
  },
  {
   "cell_type": "code",
   "execution_count": 3,
   "metadata": {},
   "outputs": [
    {
     "name": "stdout",
     "output_type": "stream",
     "text": [
      "1  is in g_cyclic_group\n",
      "2  is in g_cyclic_group\n",
      "3  is in g_cyclic_group\n",
      "4  is in g_cyclic_group\n",
      "5  is in g_cyclic_group\n",
      "6  is in g_cyclic_group\n",
      "7  is in g_cyclic_group\n",
      "8  is in g_cyclic_group\n",
      "9  is in g_cyclic_group\n"
     ]
    }
   ],
   "source": [
    "for i in range(1, 10):\n",
    "    if alpha**i % p in g_cyclic_group: \n",
    "        print(i, ' is in g_cyclic_group')\n",
    "    else:\n",
    "        print(i, ' is NOT in g_cyclic_group')"
   ]
  },
  {
   "cell_type": "code",
   "execution_count": 4,
   "metadata": {},
   "outputs": [
    {
     "name": "stdout",
     "output_type": "stream",
     "text": [
      "public key x =  21\n",
      "y =  21\n",
      "message m_index =  23\n",
      "message m =  53\n"
     ]
    }
   ],
   "source": [
    "x = random.randint(1, q-1)\n",
    "print('public key x = ', x)\n",
    "\n",
    "y = alpha ** x % p\n",
    "print('y = ', y)\n",
    "\n",
    "m_index = random.randint(1, q-1)\n",
    "print('message m_index = ', m_index)\n",
    "m = g_cyclic_group[m_index]\n",
    "print('message m = ', m)"
   ]
  },
  {
   "cell_type": "code",
   "execution_count": 5,
   "metadata": {},
   "outputs": [
    {
     "name": "stdout",
     "output_type": "stream",
     "text": [
      "r =  11\n",
      "encrypted (c1 and c2):  20 46\n"
     ]
    }
   ],
   "source": [
    "r = random.randint(2, q-1)\n",
    "print('r = ', r)\n",
    "\n",
    "c1 = alpha**r % p\n",
    "c2 = m * (y**r) % p\n",
    "print('encrypted (c1 and c2): ', c1, c2)"
   ]
  },
  {
   "cell_type": "code",
   "execution_count": 6,
   "metadata": {},
   "outputs": [
    {
     "name": "stdout",
     "output_type": "stream",
     "text": [
      "inverse_c1 =  3\n"
     ]
    }
   ],
   "source": [
    "inverse_c1 = 0\n",
    "inverse_c1_flag = False \n",
    "for i in range(0, q):\n",
    "    if c1 * (alpha **i) % p == 1:\n",
    "        inverse_c1 = alpha **i %p\n",
    "        print('inverse_c1 = ', inverse_c1)\n",
    "        inverse_c1_flag = True \n",
    "if inverse_c1_flag == False:\n",
    "    print('could not find inverse_c1')"
   ]
  },
  {
   "cell_type": "code",
   "execution_count": 7,
   "metadata": {},
   "outputs": [
    {
     "name": "stdout",
     "output_type": "stream",
     "text": [
      "dectypted message is  53\n",
      "decryption success!\n"
     ]
    }
   ],
   "source": [
    "decrypted = c2 * (inverse_c1 **x) % p\n",
    "print('dectypted message is ', decrypted)\n",
    "\n",
    "if decrypted == m: print('decryption success!')\n",
    "else: print('something is wrong!')"
   ]
  },
  {
   "cell_type": "code",
   "execution_count": null,
   "metadata": {},
   "outputs": [],
   "source": []
  }
 ],
 "metadata": {
  "kernelspec": {
   "display_name": "Python 3",
   "language": "python",
   "name": "python3"
  },
  "language_info": {
   "codemirror_mode": {
    "name": "ipython",
    "version": 3
   },
   "file_extension": ".py",
   "mimetype": "text/x-python",
   "name": "python",
   "nbconvert_exporter": "python",
   "pygments_lexer": "ipython3",
   "version": "3.7.6"
  }
 },
 "nbformat": 4,
 "nbformat_minor": 4
}
