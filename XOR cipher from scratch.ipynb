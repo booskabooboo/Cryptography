{
 "cells": [
  {
   "cell_type": "code",
   "execution_count": 1,
   "metadata": {},
   "outputs": [
    {
     "name": "stdout",
     "output_type": "stream",
     "text": [
      "90\n"
     ]
    }
   ],
   "source": [
    "#ord returns ASCII code for character. \n",
    "ord_char = ord(\"Z\")\n",
    "print(ord_char)"
   ]
  },
  {
   "cell_type": "code",
   "execution_count": 2,
   "metadata": {},
   "outputs": [],
   "source": [
    "def binary(num): #return 8 bit binary\n",
    "    binary_num = []\n",
    "\n",
    "    while num > 0:\n",
    "        binary_num.append(num % 2)\n",
    "        num = num // 2\n",
    "\n",
    "    binary_num.reverse()\n",
    "    binary_num = map(str, binary_num)\n",
    "    binary_num = \"\".join(binary_num)\n",
    "    binary_num = binary_num.zfill(8)\n",
    "\n",
    "    return binary_num"
   ]
  },
  {
   "cell_type": "code",
   "execution_count": 3,
   "metadata": {},
   "outputs": [
    {
     "data": {
      "text/plain": [
       "'01011010'"
      ]
     },
     "execution_count": 3,
     "metadata": {},
     "output_type": "execute_result"
    }
   ],
   "source": [
    "binary(90)"
   ]
  },
  {
   "cell_type": "code",
   "execution_count": 17,
   "metadata": {},
   "outputs": [
    {
     "name": "stdout",
     "output_type": "stream",
     "text": [
      "['01001001', '00100000', '01100100', '01101111', '01101110', '00100111', '01110100', '00100000', '01101100', '01101001', '01101011', '01100101', '00100000', '01101101', '01110101', '01110011', '01101000', '01110010', '01101111', '01101111', '01101101', '00101110', '00100000', '01001011', '01101111', '01110100', '01100101', '01111000']\n"
     ]
    }
   ],
   "source": [
    "message = \"I don't like mushroom. Kotex\"\n",
    "len_message = len(message)\n",
    "message_binary = []\n",
    "\n",
    "for i in range(len_message):\n",
    "    letter = ord(message[i])\n",
    "    letter = binary(letter)\n",
    "    message_binary.append(letter)\n",
    "\n",
    "#message_binary = \"\".join(message_binary)\n",
    "print(message_binary)"
   ]
  },
  {
   "cell_type": "code",
   "execution_count": 18,
   "metadata": {},
   "outputs": [
    {
     "name": "stdout",
     "output_type": "stream",
     "text": [
      "00111110\n"
     ]
    }
   ],
   "source": [
    "xor_key = '>'\n",
    "xor_key_binary = binary(ord(xor_key))\n",
    "print(xor_key_binary)"
   ]
  },
  {
   "cell_type": "code",
   "execution_count": 19,
   "metadata": {},
   "outputs": [
    {
     "name": "stdout",
     "output_type": "stream",
     "text": [
      "['01110111', '00011110', '01011010', '01010001', '01010000', '00011001', '01001010', '00011110', '01010010', '01010111', '01010101', '01011011', '00011110', '01010011', '01001011', '01001101', '01010110', '01001100', '01010001', '01010001', '01010011', '00010000', '00011110', '01110101', '01010001', '01001010', '01011011', '01000110']\n"
     ]
    }
   ],
   "source": [
    "# encryption\n",
    "encrypted_message_binary = []\n",
    "\n",
    "for k in message_binary:\n",
    "    encrypted_onecharacter = []\n",
    "\n",
    "    for j in range(8):\n",
    "        if k[j] == xor_key_binary[j]:\n",
    "            encrypted_onecharacter.append('0')\n",
    "        else:\n",
    "            encrypted_onecharacter.append('1')\n",
    "\n",
    "    encrypted_onecharacter = map(str, encrypted_onecharacter)\n",
    "    encrypted_onecharacter = \"\".join(encrypted_onecharacter)\n",
    "    encrypted_message_binary.append(encrypted_onecharacter)\n",
    "\n",
    "print(encrypted_message_binary)"
   ]
  },
  {
   "cell_type": "code",
   "execution_count": 20,
   "metadata": {},
   "outputs": [
    {
     "name": "stdout",
     "output_type": "stream",
     "text": [
      "119 30 90 81 80 25 74 30 82 87 85 91 30 83 75 77 86 76 81 81 83 16 30 117 81 74 91 70 \n",
      "w\u001e",
      "ZQP\u0019J\u001e",
      "RWU[\u001e",
      "SKMVLQQS\u0010\u001e",
      "uQJ[F\n"
     ]
    }
   ],
   "source": [
    "# translate into a character\n",
    "encrypted_message = []\n",
    "\n",
    "for l in encrypted_message_binary:\n",
    "    print(int(l, 2), end=\" \")\n",
    "    char = chr(int(l, 2))\n",
    "    encrypted_message.append(char)\n",
    "\n",
    "print()\n",
    "print(''.join(encrypted_message))\n"
   ]
  },
  {
   "cell_type": "code",
   "execution_count": 21,
   "metadata": {},
   "outputs": [
    {
     "name": "stdout",
     "output_type": "stream",
     "text": [
      "['01110111', '00011110', '01011010', '01010001', '01010000', '00011001', '01001010', '00011110', '01010010', '01010111', '01010101', '01011011', '00011110', '01010011', '01001011', '01001101', '01010110', '01001100', '01010001', '01010001', '01010011', '00010000', '00011110', '01110101', '01010001', '01001010', '01011011', '01000110']\n"
     ]
    }
   ],
   "source": [
    "todecrypt_message = encrypted_message\n",
    "len_todecrypt_message = len(todecrypt_message)\n",
    "todecrypt_message_binary = []\n",
    "\n",
    "for i in range(len_todecrypt_message):\n",
    "    letter = ord(todecrypt_message[i])\n",
    "    letter = binary(letter)\n",
    "    todecrypt_message_binary.append(letter)\n",
    "\n",
    "#message_binary = \"\".join(message_binary)\n",
    "print(todecrypt_message_binary)"
   ]
  },
  {
   "cell_type": "code",
   "execution_count": 22,
   "metadata": {},
   "outputs": [
    {
     "name": "stdout",
     "output_type": "stream",
     "text": [
      "['01001001', '00100000', '01100100', '01101111', '01101110', '00100111', '01110100', '00100000', '01101100', '01101001', '01101011', '01100101', '00100000', '01101101', '01110101', '01110011', '01101000', '01110010', '01101111', '01101111', '01101101', '00101110', '00100000', '01001011', '01101111', '01110100', '01100101', '01111000']\n"
     ]
    }
   ],
   "source": [
    "# decryption\n",
    "\n",
    "xor_candidate = \">\"\n",
    "xor_candidate_binary = binary(ord(xor_candidate))\n",
    "decrypted_message_binary = []\n",
    "\n",
    "for k in todecrypt_message_binary:\n",
    "    decrypted_onecharacter = []\n",
    "\n",
    "    for j in range(8):\n",
    "        if k[j] == xor_candidate_binary[j]:\n",
    "            decrypted_onecharacter.append('0')\n",
    "        else:\n",
    "            decrypted_onecharacter.append('1')\n",
    "\n",
    "    decrypted_onecharacter = map(str, decrypted_onecharacter)\n",
    "    decrypted_onecharacter = \"\".join(decrypted_onecharacter)\n",
    "    decrypted_message_binary.append(decrypted_onecharacter)\n",
    "\n",
    "print(decrypted_message_binary)"
   ]
  },
  {
   "cell_type": "code",
   "execution_count": 23,
   "metadata": {},
   "outputs": [
    {
     "name": "stdout",
     "output_type": "stream",
     "text": [
      "73 32 100 111 110 39 116 32 108 105 107 101 32 109 117 115 104 114 111 111 109 46 32 75 111 116 101 120 \n",
      "I don't like mushroom. Kotex\n"
     ]
    }
   ],
   "source": [
    "# translate into a character\n",
    "decrypted_message = []\n",
    "\n",
    "for l in decrypted_message_binary:\n",
    "    print(int(l, 2), end = \" \")\n",
    "    char = chr(int(l, 2))\n",
    "    decrypted_message.append(char)\n",
    "\n",
    "decrypted_message = \"\".join(decrypted_message)\n",
    "print()\n",
    "print(decrypted_message)"
   ]
  },
  {
   "cell_type": "code",
   "execution_count": 24,
   "metadata": {},
   "outputs": [
    {
     "name": "stdout",
     "output_type": "stream",
     "text": [
      "I  is OK\n",
      "don't  is OK\n",
      "like  is OK\n",
      "mushroom.  is OK\n",
      "Kotex  is NG\n",
      "I don't like mushroom. Kotex\n"
     ]
    }
   ],
   "source": [
    "import enchant \n",
    "d = enchant.Dict(\"en_US\") \n",
    "\n",
    "decrypted_message_list = list(decrypted_message.split(\" \"))\n",
    "word_count = len(decrypted_message_list)\n",
    "not_in_dict = 0\n",
    "    \n",
    "for word in decrypted_message_list:\n",
    "    try:\n",
    "        if d.check(word) == True:\n",
    "            print(word, \" is OK\")\n",
    "            pass\n",
    "        else:\n",
    "            print(word, \" is NG\")\n",
    "            not_in_dict = not_in_dict +1\n",
    "    except Error: \n",
    "        pass\n",
    "if not_in_dict/word_count < 0.5:    \n",
    "    #print('key: ', m) \n",
    "    print(decrypted_message)\n",
    "else:\n",
    "    print(\"Not a correct key\")"
   ]
  },
  {
   "cell_type": "code",
   "execution_count": null,
   "metadata": {},
   "outputs": [],
   "source": []
  }
 ],
 "metadata": {
  "kernelspec": {
   "display_name": "Python 3",
   "language": "python",
   "name": "python3"
  },
  "language_info": {
   "codemirror_mode": {
    "name": "ipython",
    "version": 3
   },
   "file_extension": ".py",
   "mimetype": "text/x-python",
   "name": "python",
   "nbconvert_exporter": "python",
   "pygments_lexer": "ipython3",
   "version": "3.8.8"
  }
 },
 "nbformat": 4,
 "nbformat_minor": 4
}
